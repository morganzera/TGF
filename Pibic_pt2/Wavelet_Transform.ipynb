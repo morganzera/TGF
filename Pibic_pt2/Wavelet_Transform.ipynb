{
 "cells": [
  {
   "cell_type": "code",
   "execution_count": null,
   "metadata": {},
   "outputs": [],
   "source": [
    "from __future__ import division\n",
    "import numpy \n",
    "from matplotlib import pyplot\n",
    "import matplotlib.pyplot as plt\n",
    "import pandas as pd\n",
    "import pycwt as wavelet\n",
    "from pycwt.helpers import find"
   ]
  },
  {
   "cell_type": "code",
   "execution_count": null,
   "metadata": {},
   "outputs": [],
   "source": [
    "data = pd.read_excel('quakes.xlsx') \n",
    "print (data.head()) \n",
    "data.columns = ['Deep','Deep_Earth','Thermal','Shallow','Impact'] "
   ]
  },
  {
   "cell_type": "code",
   "execution_count": null,
   "metadata": {},
   "outputs": [],
   "source": [
    "dat = data['Deep']\n",
    "#dat = data['Deep_Earth']\n",
    "#dat = data['Thermal']\n",
    "#dat = data['Shallow']\n",
    "#dat = data['Impact']\n",
    "\n",
    "title = 'Number of quakes per day'\n",
    "label = 'Number of quakes'\n",
    "units = 'Unit'\n",
    "\n",
    "t0 = 1970.0  # First year of record\n",
    "dt = 1/(365.25)  # In years\n",
    "N = dat.size\n",
    "t = numpy.arange(0,N) * dt + t0"
   ]
  },
  {
   "cell_type": "code",
   "execution_count": null,
   "metadata": {},
   "outputs": [],
   "source": [
    "mother = wavelet.Morlet(6)\n",
    "s0 = 1 * dt \n",
    "dj = 1 / 12  \n",
    "J = 15 / dj  \n",
    "alpha, _, _ = wavelet.ar1(dat)"
   ]
  },
  {
   "cell_type": "code",
   "execution_count": null,
   "metadata": {},
   "outputs": [],
   "source": [
    "p = numpy.polyfit(t - t0, dat, 1)\n",
    "dat_notrend = dat - numpy.polyval(p, t - t0)\n",
    "std = dat_notrend.std()  \n",
    "var = std ** 2  \n",
    "dat_norm = dat_notrend / std \n",
    "wave, scales, freqs, coi, fft, fftfreqs = wavelet.cwt(dat_norm, dt, dj, s0, J, mother)"
   ]
  },
  {
   "cell_type": "code",
   "execution_count": null,
   "metadata": {},
   "outputs": [],
   "source": [
    "power = (numpy.abs(wave)) ** 2\n",
    "fft_power = numpy.abs(fft) ** 2\n",
    "period = (1 / freqs) \n",
    "power /= scales[:, None]"
   ]
  },
  {
   "cell_type": "code",
   "execution_count": null,
   "metadata": {},
   "outputs": [],
   "source": [
    "signif, fft_theor = wavelet.significance(1.0, dt, scales, 0, alpha,\n",
    "                                         significance_level=0.95,\n",
    "                                         wavelet=mother)\n",
    "sig95 = numpy.ones([1, N]) * signif[:, None]\n",
    "sig95 = power / sig95"
   ]
  },
  {
   "cell_type": "code",
   "execution_count": null,
   "metadata": {},
   "outputs": [],
   "source": [
    "#figure\n",
    "pyplot.close('all')\n",
    "pyplot.ioff()\n",
    "figprops = dict(figsize=(18, 20), dpi=300)\n",
    "fig = pyplot.figure(**figprops)\n",
    "\n",
    "#original timeseries\n",
    "ax = pyplot.axes([0.1, 0.75, 0.65, 0.2])\n",
    "ax.plot(t, dat, 'k', linewidth=1.)\n",
    "ax.set_title('a) {}'.format(title))\n",
    "ax.set_ylabel(r'{} [{}]'.format(label, units))\n",
    "\n",
    "#normalized wavelet power spectrum\n",
    "bx = pyplot.axes([0., 0.37, 0.65, 0.28], sharex=ax)\n",
    "levels = [0.0625, 0.125, 0.25, 0.5, 1, 2, 4, 8, 16, 32, 64, 128, 256, 512]\n",
    "bx.contourf(t, numpy.log2(period), numpy.log2(power), numpy.log2(levels),\n",
    "            extend='both', cmap=pyplot.cm.viridis)\n",
    "extent = [t.min(), t.max(), 0, max(period)]\n",
    "bx.contour(t, numpy.log2(period), sig95, [-99, 1], colors='k', linewidths=2,\n",
    "           extent=extent)\n",
    "bx.fill(numpy.concatenate([t, t[-1:] + dt, t[-1:] + dt,\n",
    "                           t[:1] - dt, t[:1] - dt]),\n",
    "        numpy.concatenate([numpy.log2(coi), [1e-9], numpy.log2(period[-1:]),\n",
    "                           numpy.log2(period[-1:]), [1e-9]]),\n",
    "        'k', alpha=0.3, hatch='x')\n",
    "bx.set_title('b) {} Wavelet Power Spectrum ({})'.format(label, mother.name))\n",
    "bx.set_ylabel('Period (years)')\n",
    "Yticks = 2 ** numpy.arange(numpy.ceil(numpy.log2(period.min())),\n",
    "                           numpy.ceil(numpy.log2(period.max())))\n",
    "bx.set_yticks(numpy.log2(Yticks))\n",
    "bx.set_yticklabels(Yticks)\n",
    "\n",
    "\n",
    "pyplot.show()"
   ]
  }
 ],
 "metadata": {
  "kernelspec": {
   "display_name": "Python 3 (ipykernel)",
   "language": "python",
   "name": "python3"
  },
  "language_info": {
   "codemirror_mode": {
    "name": "ipython",
    "version": 3
   },
   "file_extension": ".py",
   "mimetype": "text/x-python",
   "name": "python",
   "nbconvert_exporter": "python",
   "pygments_lexer": "ipython3",
   "version": "3.9.7"
  }
 },
 "nbformat": 4,
 "nbformat_minor": 2
}
