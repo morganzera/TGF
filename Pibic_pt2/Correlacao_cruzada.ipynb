{
 "cells": [
  {
   "cell_type": "code",
   "execution_count": 3,
   "metadata": {},
   "outputs": [
    {
     "name": "stderr",
     "output_type": "stream",
     "text": [
      "C:\\Users\\Morgan\\AppData\\Local\\Temp\\ipykernel_2996\\234389090.py:8: SettingWithCopyWarning: \n",
      "A value is trying to be set on a copy of a slice from a DataFrame\n",
      "\n",
      "See the caveats in the documentation: https://pandas.pydata.org/pandas-docs/stable/user_guide/indexing.html#returning-a-view-versus-a-copy\n",
      "  tgf['fft TGF'][i] = complex(tgf['fft TGF'][i])\n",
      "C:\\Users\\Morgan\\AppData\\Local\\Temp\\ipykernel_2996\\234389090.py:9: SettingWithCopyWarning: \n",
      "A value is trying to be set on a copy of a slice from a DataFrame\n",
      "\n",
      "See the caveats in the documentation: https://pandas.pydata.org/pandas-docs/stable/user_guide/indexing.html#returning-a-view-versus-a-copy\n",
      "  sp['fft SP'][i] = complex(sp['fft SP'][i])\n"
     ]
    }
   ],
   "source": [
    "import pandas as pd\n",
    "import matplotlib.pyplot as plt\n",
    "import numpy as np\n",
    "\n",
    "tgf = pd.read_excel('testando_fftTGF.xlsx')\n",
    "sp = pd.read_excel('testando_fftSP.xlsx')\n",
    "for i in range (len(tgf)):\n",
    "    tgf['fft TGF'][i] = complex(tgf['fft TGF'][i])\n",
    "    sp['fft SP'][i] = complex(sp['fft SP'][i])\n",
    "\n",
    "tgf = np.array(tgf['fft TGF'])\n",
    "sp = np.array(sp['fft SP'])"
   ]
  },
  {
   "cell_type": "code",
   "execution_count": 4,
   "metadata": {},
   "outputs": [
    {
     "ename": "TypeError",
     "evalue": "float() argument must be a string or a real number, not 'complex'",
     "output_type": "error",
     "traceback": [
      "\u001b[1;31m---------------------------------------------------------------------------\u001b[0m",
      "\u001b[1;31mTypeError\u001b[0m                                 Traceback (most recent call last)",
      "\u001b[1;32mc:\\Users\\Morgan\\Documents\\Pibic\\Pibic_pt2\\Correlacao_cruzada.ipynb Cell 2\u001b[0m in \u001b[0;36m<cell line: 3>\u001b[1;34m()\u001b[0m\n\u001b[0;32m      <a href='vscode-notebook-cell:/c%3A/Users/Morgan/Documents/Pibic/Pibic_pt2/Correlacao_cruzada.ipynb#W1sZmlsZQ%3D%3D?line=0'>1</a>\u001b[0m fig \u001b[39m=\u001b[39m plt\u001b[39m.\u001b[39mfigure()\n\u001b[0;32m      <a href='vscode-notebook-cell:/c%3A/Users/Morgan/Documents/Pibic/Pibic_pt2/Correlacao_cruzada.ipynb#W1sZmlsZQ%3D%3D?line=1'>2</a>\u001b[0m ax1 \u001b[39m=\u001b[39m fig\u001b[39m.\u001b[39madd_subplot(\u001b[39m211\u001b[39m)\n\u001b[1;32m----> <a href='vscode-notebook-cell:/c%3A/Users/Morgan/Documents/Pibic/Pibic_pt2/Correlacao_cruzada.ipynb#W1sZmlsZQ%3D%3D?line=2'>3</a>\u001b[0m ax1\u001b[39m.\u001b[39;49mxcorr(tgf, sp, usevlines\u001b[39m=\u001b[39;49m\u001b[39mTrue\u001b[39;49;00m, normed\u001b[39m=\u001b[39;49m\u001b[39mTrue\u001b[39;49;00m)\n\u001b[0;32m      <a href='vscode-notebook-cell:/c%3A/Users/Morgan/Documents/Pibic/Pibic_pt2/Correlacao_cruzada.ipynb#W1sZmlsZQ%3D%3D?line=3'>4</a>\u001b[0m ax1\u001b[39m.\u001b[39mgrid(\u001b[39mTrue\u001b[39;00m)\n\u001b[0;32m      <a href='vscode-notebook-cell:/c%3A/Users/Morgan/Documents/Pibic/Pibic_pt2/Correlacao_cruzada.ipynb#W1sZmlsZQ%3D%3D?line=4'>5</a>\u001b[0m ax1\u001b[39m.\u001b[39maxhline(\u001b[39m0\u001b[39m, color\u001b[39m=\u001b[39m\u001b[39m'\u001b[39m\u001b[39mblue\u001b[39m\u001b[39m'\u001b[39m)\n",
      "File \u001b[1;32mc:\\Users\\Morgan\\AppData\\Local\\Programs\\Python\\Python310\\lib\\site-packages\\matplotlib\\__init__.py:1412\u001b[0m, in \u001b[0;36m_preprocess_data.<locals>.inner\u001b[1;34m(ax, data, *args, **kwargs)\u001b[0m\n\u001b[0;32m   1409\u001b[0m \u001b[39m@functools\u001b[39m\u001b[39m.\u001b[39mwraps(func)\n\u001b[0;32m   1410\u001b[0m \u001b[39mdef\u001b[39;00m \u001b[39minner\u001b[39m(ax, \u001b[39m*\u001b[39margs, data\u001b[39m=\u001b[39m\u001b[39mNone\u001b[39;00m, \u001b[39m*\u001b[39m\u001b[39m*\u001b[39mkwargs):\n\u001b[0;32m   1411\u001b[0m     \u001b[39mif\u001b[39;00m data \u001b[39mis\u001b[39;00m \u001b[39mNone\u001b[39;00m:\n\u001b[1;32m-> 1412\u001b[0m         \u001b[39mreturn\u001b[39;00m func(ax, \u001b[39m*\u001b[39m\u001b[39mmap\u001b[39m(sanitize_sequence, args), \u001b[39m*\u001b[39m\u001b[39m*\u001b[39mkwargs)\n\u001b[0;32m   1414\u001b[0m     bound \u001b[39m=\u001b[39m new_sig\u001b[39m.\u001b[39mbind(ax, \u001b[39m*\u001b[39margs, \u001b[39m*\u001b[39m\u001b[39m*\u001b[39mkwargs)\n\u001b[0;32m   1415\u001b[0m     auto_label \u001b[39m=\u001b[39m (bound\u001b[39m.\u001b[39marguments\u001b[39m.\u001b[39mget(label_namer)\n\u001b[0;32m   1416\u001b[0m                   \u001b[39mor\u001b[39;00m bound\u001b[39m.\u001b[39mkwargs\u001b[39m.\u001b[39mget(label_namer))\n",
      "File \u001b[1;32mc:\\Users\\Morgan\\AppData\\Local\\Programs\\Python\\Python310\\lib\\site-packages\\matplotlib\\axes\\_axes.py:2037\u001b[0m, in \u001b[0;36mAxes.xcorr\u001b[1;34m(self, x, y, normed, detrend, usevlines, maxlags, **kwargs)\u001b[0m\n\u001b[0;32m   2034\u001b[0m correls \u001b[39m=\u001b[39m correls[Nx \u001b[39m-\u001b[39m \u001b[39m1\u001b[39m \u001b[39m-\u001b[39m maxlags:Nx \u001b[39m+\u001b[39m maxlags]\n\u001b[0;32m   2036\u001b[0m \u001b[39mif\u001b[39;00m usevlines:\n\u001b[1;32m-> 2037\u001b[0m     a \u001b[39m=\u001b[39m \u001b[39mself\u001b[39m\u001b[39m.\u001b[39mvlines(lags, [\u001b[39m0\u001b[39m], correls, \u001b[39m*\u001b[39m\u001b[39m*\u001b[39mkwargs)\n\u001b[0;32m   2038\u001b[0m     \u001b[39m# Make label empty so only vertical lines get a legend entry\u001b[39;00m\n\u001b[0;32m   2039\u001b[0m     kwargs\u001b[39m.\u001b[39mpop(\u001b[39m'\u001b[39m\u001b[39mlabel\u001b[39m\u001b[39m'\u001b[39m, \u001b[39m'\u001b[39m\u001b[39m'\u001b[39m)\n",
      "File \u001b[1;32mc:\\Users\\Morgan\\AppData\\Local\\Programs\\Python\\Python310\\lib\\site-packages\\matplotlib\\__init__.py:1412\u001b[0m, in \u001b[0;36m_preprocess_data.<locals>.inner\u001b[1;34m(ax, data, *args, **kwargs)\u001b[0m\n\u001b[0;32m   1409\u001b[0m \u001b[39m@functools\u001b[39m\u001b[39m.\u001b[39mwraps(func)\n\u001b[0;32m   1410\u001b[0m \u001b[39mdef\u001b[39;00m \u001b[39minner\u001b[39m(ax, \u001b[39m*\u001b[39margs, data\u001b[39m=\u001b[39m\u001b[39mNone\u001b[39;00m, \u001b[39m*\u001b[39m\u001b[39m*\u001b[39mkwargs):\n\u001b[0;32m   1411\u001b[0m     \u001b[39mif\u001b[39;00m data \u001b[39mis\u001b[39;00m \u001b[39mNone\u001b[39;00m:\n\u001b[1;32m-> 1412\u001b[0m         \u001b[39mreturn\u001b[39;00m func(ax, \u001b[39m*\u001b[39m\u001b[39mmap\u001b[39m(sanitize_sequence, args), \u001b[39m*\u001b[39m\u001b[39m*\u001b[39mkwargs)\n\u001b[0;32m   1414\u001b[0m     bound \u001b[39m=\u001b[39m new_sig\u001b[39m.\u001b[39mbind(ax, \u001b[39m*\u001b[39margs, \u001b[39m*\u001b[39m\u001b[39m*\u001b[39mkwargs)\n\u001b[0;32m   1415\u001b[0m     auto_label \u001b[39m=\u001b[39m (bound\u001b[39m.\u001b[39marguments\u001b[39m.\u001b[39mget(label_namer)\n\u001b[0;32m   1416\u001b[0m                   \u001b[39mor\u001b[39;00m bound\u001b[39m.\u001b[39mkwargs\u001b[39m.\u001b[39mget(label_namer))\n",
      "File \u001b[1;32mc:\\Users\\Morgan\\AppData\\Local\\Programs\\Python\\Python310\\lib\\site-packages\\matplotlib\\axes\\_axes.py:1134\u001b[0m, in \u001b[0;36mAxes.vlines\u001b[1;34m(self, x, ymin, ymax, colors, linestyles, label, **kwargs)\u001b[0m\n\u001b[0;32m   1132\u001b[0m masked_verts[:, \u001b[39m0\u001b[39m, \u001b[39m1\u001b[39m] \u001b[39m=\u001b[39m ymin\n\u001b[0;32m   1133\u001b[0m masked_verts[:, \u001b[39m1\u001b[39m, \u001b[39m0\u001b[39m] \u001b[39m=\u001b[39m x\n\u001b[1;32m-> 1134\u001b[0m masked_verts[:, \u001b[39m1\u001b[39;49m, \u001b[39m1\u001b[39;49m] \u001b[39m=\u001b[39m ymax\n\u001b[0;32m   1136\u001b[0m lines \u001b[39m=\u001b[39m mcoll\u001b[39m.\u001b[39mLineCollection(masked_verts, colors\u001b[39m=\u001b[39mcolors,\n\u001b[0;32m   1137\u001b[0m                              linestyles\u001b[39m=\u001b[39mlinestyles, label\u001b[39m=\u001b[39mlabel)\n\u001b[0;32m   1138\u001b[0m \u001b[39mself\u001b[39m\u001b[39m.\u001b[39madd_collection(lines, autolim\u001b[39m=\u001b[39m\u001b[39mFalse\u001b[39;00m)\n",
      "File \u001b[1;32mc:\\Users\\Morgan\\AppData\\Local\\Programs\\Python\\Python310\\lib\\site-packages\\numpy\\ma\\core.py:3377\u001b[0m, in \u001b[0;36mMaskedArray.__setitem__\u001b[1;34m(self, indx, value)\u001b[0m\n\u001b[0;32m   3374\u001b[0m     mval \u001b[39m=\u001b[39m \u001b[39mtuple\u001b[39m([\u001b[39mFalse\u001b[39;00m] \u001b[39m*\u001b[39m \u001b[39mlen\u001b[39m(_dtype\u001b[39m.\u001b[39mnames))\n\u001b[0;32m   3375\u001b[0m \u001b[39mif\u001b[39;00m _mask \u001b[39mis\u001b[39;00m nomask:\n\u001b[0;32m   3376\u001b[0m     \u001b[39m# Set the data, then the mask\u001b[39;00m\n\u001b[1;32m-> 3377\u001b[0m     _data[indx] \u001b[39m=\u001b[39m dval\n\u001b[0;32m   3378\u001b[0m     \u001b[39mif\u001b[39;00m mval \u001b[39mis\u001b[39;00m \u001b[39mnot\u001b[39;00m nomask:\n\u001b[0;32m   3379\u001b[0m         _mask \u001b[39m=\u001b[39m \u001b[39mself\u001b[39m\u001b[39m.\u001b[39m_mask \u001b[39m=\u001b[39m make_mask_none(\u001b[39mself\u001b[39m\u001b[39m.\u001b[39mshape, _dtype)\n",
      "\u001b[1;31mTypeError\u001b[0m: float() argument must be a string or a real number, not 'complex'"
     ]
    },
    {
     "data": {
      "image/png": "[encoded data removed]",
      "text/plain": [
       "<Figure size 432x288 with 1 Axes>"
      ]
     },
     "metadata": {
      "needs_background": "light"
     },
     "output_type": "display_data"
    }
   ],
   "source": [
    "fig = plt.figure()\n",
    "ax1 = fig.add_subplot(211)\n",
    "ax1.xcorr(tgf, sp, usevlines=True, normed=True)\n",
    "ax1.grid(True)\n",
    "ax1.axhline(0, color='blue')\n",
    "plt.show()"
   ]
  }
 ],
 "metadata": {
  "kernelspec": {
   "display_name": "Python 3.10.5 64-bit",
   "language": "python",
   "name": "python3"
  },
  "language_info": {
   "codemirror_mode": {
    "name": "ipython",
    "version": 3
   },
   "file_extension": ".py",
   "mimetype": "text/x-python",
   "name": "python",
   "nbconvert_exporter": "python",
   "pygments_lexer": "ipython3",
   "version": "3.10.5"
  },
  "orig_nbformat": 4,
  "vscode": {
   "interpreter": {
    "hash": "a03ba0d8f8e9f24265312485e3cfc136179873a81d6be5f9bd500d72e5275bf7"
   }
  }
 },
 "nbformat": 4,
 "nbformat_minor": 2
}
