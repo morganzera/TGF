{
 "cells": [
  {
   "cell_type": "code",
   "execution_count": 11,
   "metadata": {},
   "outputs": [],
   "source": [
    "import pandas as pd\n",
    "import matplotlib.pyplot as plt\n",
    "import numpy as np\n",
    "\n",
    "tgf = pd.read_excel('testando_fftTGF.xlsx')\n",
    "sp = pd.read_excel('testando_fftSP.xlsx')\n",
    "\n",
    "tgf = np.array(tgf['fft TGF'])\n",
    "sp = np.array(sp['fft SP'])"
   ]
  },
  {
   "cell_type": "code",
   "execution_count": 12,
   "metadata": {},
   "outputs": [
    {
     "data": {
      "image/png": "[encoded data removed]",
      "text/plain": [
       "<Figure size 432x288 with 1 Axes>"
      ]
     },
     "metadata": {
      "needs_background": "light"
     },
     "output_type": "display_data"
    }
   ],
   "source": [
    "fig = plt.figure() \n",
    "ax1 = fig.add_subplot(211) \n",
    "ax1.xcorr(tgf, sp, usevlines=True, \n",
    "          maxlags=5, normed=True, \n",
    "          lw=2) \n",
    "ax1.grid(True) \n",
    "ax1.axhline(0, color='blue', lw=2) \n",
    "plt.show() "
   ]
  }
 ],
 "metadata": {
  "kernelspec": {
   "display_name": "Python 3.10.5 64-bit",
   "language": "python",
   "name": "python3"
  },
  "language_info": {
   "codemirror_mode": {
    "name": "ipython",
    "version": 3
   },
   "file_extension": ".py",
   "mimetype": "text/x-python",
   "name": "python",
   "nbconvert_exporter": "python",
   "pygments_lexer": "ipython3",
   "version": "3.10.5"
  },
  "orig_nbformat": 4,
  "vscode": {
   "interpreter": {
    "hash": "a03ba0d8f8e9f24265312485e3cfc136179873a81d6be5f9bd500d72e5275bf7"
   }
  }
 },
 "nbformat": 4,
 "nbformat_minor": 2
}
