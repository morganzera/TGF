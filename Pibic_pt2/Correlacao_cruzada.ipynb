{
 "cells": [
  {
   "cell_type": "code",
   "execution_count": 47,
   "metadata": {},
   "outputs": [
    {
     "name": "stdout",
     "output_type": "stream",
     "text": [
      "          tgf        sp\n",
      "0    0.500000  0.000000\n",
      "1    0.000000  0.000000\n",
      "2    0.000000  0.536626\n",
      "3    0.800000  0.295929\n",
      "4    0.400000  0.209350\n",
      "..        ...       ...\n",
      "115  0.285714  0.000000\n",
      "116  0.400000  0.833379\n",
      "117  0.777778  0.540437\n",
      "118  0.000000  0.000000\n",
      "119  0.666667  0.678590\n",
      "\n",
      "[120 rows x 2 columns]\n"
     ]
    }
   ],
   "source": [
    "import pandas as pd\n",
    "import matplotlib.pyplot as plt\n",
    "import numpy as np\n",
    "\n",
    "tgf = pd.read_excel('tgf_normalizado.xlsx')\n",
    "sp = pd.read_excel('spF_normalizado.xlsx')\n",
    "\n",
    "tgf_dados = np.array(tgf['tgf'])\n",
    "sp_dados = np.array(sp['Valores de SP medio filtrado e normalizado'])\n",
    "\n",
    "\n",
    "dados = pd.DataFrame({'tgf': tgf_dados, 'sp': sp_dados})\n",
    "\n",
    "print(dados)"
   ]
  },
  {
   "cell_type": "code",
   "execution_count": 48,
   "metadata": {},
   "outputs": [],
   "source": [
    "# fig = plt.figure() \n",
    "# ax1 = fig.add_subplot(211) \n",
    "# ax1.xcorr(tgf, sp, usevlines=True, \n",
    "#           maxlags=5, normed=True, \n",
    "#           lw=2) \n",
    "# ax1.grid(True) \n",
    "# ax1.axhline(0, color='blue', lw=2) \n",
    "# plt.show() "
   ]
  }
 ],
 "metadata": {
  "kernelspec": {
   "display_name": "Python 3.10.5 64-bit",
   "language": "python",
   "name": "python3"
  },
  "language_info": {
   "codemirror_mode": {
    "name": "ipython",
    "version": 3
   },
   "file_extension": ".py",
   "mimetype": "text/x-python",
   "name": "python",
   "nbconvert_exporter": "python",
   "pygments_lexer": "ipython3",
   "version": "3.10.6"
  },
  "orig_nbformat": 4,
  "vscode": {
   "interpreter": {
    "hash": "a03ba0d8f8e9f24265312485e3cfc136179873a81d6be5f9bd500d72e5275bf7"
   }
  }
 },
 "nbformat": 4,
 "nbformat_minor": 2
}
